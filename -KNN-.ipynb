{
 "cells": [
  {
   "cell_type": "code",
   "execution_count": 1,
   "id": "d389694f",
   "metadata": {},
   "outputs": [],
   "source": [
    "import numpy as np\n",
    "import pandas as pd\n",
    "import matplotlib.pyplot as plt"
   ]
  },
  {
   "cell_type": "code",
   "execution_count": 2,
   "id": "7ded16f1",
   "metadata": {},
   "outputs": [],
   "source": [
    "def KNN_fullyvectorised(x_train,x_test,y_train,k):\n",
    "    x_train = np.expand_dims(x_train,axis = 0)\n",
    "    x_test = np.expand_dims(x_test,axis = 1)\n",
    "    print(\"progess: change the dimension of array \")\n",
    "    d = (x_train - x_test)**2\n",
    "    print(d.shape)\n",
    "    print(\"progess: measures the distance of the point\")\n",
    "    d = np.sum(d,axis = 2)\n",
    "    dk = np.argpartition(d,k,axis = 1)[:,:k]\n",
    "    print(\"progess: selected the index of first K nearest points \")\n",
    "    y_k = y_train[dk]\n",
    "    pd_np = pd.DataFrame(y_k)\n",
    "    count = pd_np.apply(pd.Series.value_counts,axis = 1)\n",
    "    print(\"progess: counting of the most frequent label has started\")\n",
    "    output = count.idxmax(axis = 1)\n",
    "    output = output.to_numpy()\n",
    "    return output"
   ]
  },
  {
   "cell_type": "code",
   "execution_count": 17,
   "id": "3f2f67a6",
   "metadata": {},
   "outputs": [],
   "source": [
    "def KNN(x_train,x_test,y_train,k):\n",
    "    m,n = x_train.shape\n",
    "    m1,n1 = x_test.shape\n",
    "    d1 = np.zeros((m1,m))\n",
    "    print(\"measuring the distance\")\n",
    "    for i in range(m1):\n",
    "        d = (x_train - x_test[i])**2\n",
    "        if(i%(m1/100) == 0):\n",
    "            print(\"=\",end=\"\")\n",
    "        d = np.sum(d,axis = 1)\n",
    "        d1[i] = d\n",
    "    print(\"\\n\")\n",
    "    print(\"progess: measures the distance\")\n",
    "    dk = np.argpartition(d1,k,axis = 1)[:,:k]\n",
    "    print(\"progess: selected the index of first K nearest points \")\n",
    "    y_k = y_train[dk]\n",
    "    pd_np = pd.DataFrame(y_k)\n",
    "    count = pd_np.apply(pd.Series.value_counts,axis = 1)\n",
    "    print(\"progess: counting of the most frequent label has started\")\n",
    "    output = count.idxmax(axis = 1)\n",
    "    output = output.to_numpy()\n",
    "    print(\"progress: process finish\")\n",
    "    return output"
   ]
  },
  {
   "cell_type": "code",
   "execution_count": null,
   "id": "e24b1583",
   "metadata": {},
   "outputs": [],
   "source": [
    "def accuracy(y_train,y_pred):\n",
    "    acc = np.mean(y_train == y_pred)*100\n",
    "    return acc"
   ]
  },
  {
   "cell_type": "code",
   "execution_count": 15,
   "id": "8249c50d",
   "metadata": {},
   "outputs": [
    {
     "name": "stdout",
     "output_type": "stream",
     "text": [
      "[8 4 1 ... 9 4 6]\n",
      "(100, 784)\n"
     ]
    }
   ],
   "source": [
    "dataset = pd.read_csv(\"classification_train.csv\")\n",
    "x_train = dataset.iloc[0:30000,2:786].values\n",
    "y_train = dataset.iloc[0:30000,1:2].values\n",
    "y_train = y_train.flatten()\n",
    "x_test = dataset.iloc[0:100,2:786].values\n",
    "y_acc = dataset.iloc[0:100,1:2].values\n",
    "y_acc = y_acc.flatten()\n",
    "print(y_train)\n",
    "print(x_test.shape)"
   ]
  },
  {
   "cell_type": "code",
   "execution_count": 16,
   "id": "a83c2a29",
   "metadata": {
    "scrolled": true
   },
   "outputs": [
    {
     "name": "stdout",
     "output_type": "stream",
     "text": [
      "measuring the distance\n",
      "====================================================================================================progess: measures the distance\n",
      "progess: selected the index of first K nearest points \n",
      "progess: counting of the most frequent label has started\n",
      "progress: process finish\n"
     ]
    }
   ],
   "source": [
    "k = 100\n",
    "output = KNN(x_train,x_test,y_train,k)"
   ]
  },
  {
   "cell_type": "code",
   "execution_count": 18,
   "id": "b4a901e2",
   "metadata": {},
   "outputs": [
    {
     "name": "stdout",
     "output_type": "stream",
     "text": [
      "[9 4 1 8 4 0 7 4 1 7 9 0 1 7 6 0 4 3 4 8 4 8 0 2 2 2 8 4 0 1 2 1 8 6 9 2 5\n",
      " 4 2 2 4 0 6 9 1 9 6 0 6 4 2 2 4 9 8 4 9 4 1 0 0 6 7 7 9 9 7 8 5 1 7 9 3 7\n",
      " 3 8 7 8 6 8 9 5 1 5 7 9 1 2 5 7 0 4 8 1 4 1 1 8 1 4]\n"
     ]
    }
   ],
   "source": [
    "print(output)"
   ]
  },
  {
   "cell_type": "code",
   "execution_count": 19,
   "id": "3718af47",
   "metadata": {},
   "outputs": [
    {
     "name": "stdout",
     "output_type": "stream",
     "text": [
      "[8 4 1 8 2 0 7 4 1 7 9 0 1 7 2 3 2 3 4 8 4 8 0 4 2 2 8 6 0 1 2 1 8 4 9 2 5\n",
      " 4 2 2 2 0 6 9 1 9 5 0 2 4 2 2 4 7 8 6 9 4 1 0 0 6 7 7 7 9 7 8 5 1 7 9 3 7\n",
      " 3 8 7 8 0 8 5 5 1 5 7 9 1 2 5 7 0 4 8 1 4 1 1 8 1 4]\n"
     ]
    }
   ],
   "source": [
    "print(y_acc)"
   ]
  },
  {
   "cell_type": "code",
   "execution_count": 22,
   "id": "264915a7",
   "metadata": {},
   "outputs": [],
   "source": [
    "acc = accuracy(y_acc,output)"
   ]
  },
  {
   "cell_type": "code",
   "execution_count": 23,
   "id": "7a9aa0d6",
   "metadata": {},
   "outputs": [
    {
     "name": "stdout",
     "output_type": "stream",
     "text": [
      "84.0\n"
     ]
    }
   ],
   "source": [
    "print(acc)"
   ]
  },
  {
   "cell_type": "code",
   "execution_count": null,
   "id": "8776b5cc",
   "metadata": {},
   "outputs": [],
   "source": []
  }
 ],
 "metadata": {
  "kernelspec": {
   "display_name": "Python 3 (ipykernel)",
   "language": "python",
   "name": "python3"
  },
  "language_info": {
   "codemirror_mode": {
    "name": "ipython",
    "version": 3
   },
   "file_extension": ".py",
   "mimetype": "text/x-python",
   "name": "python",
   "nbconvert_exporter": "python",
   "pygments_lexer": "ipython3",
   "version": "3.9.13"
  }
 },
 "nbformat": 4,
 "nbformat_minor": 5
}
