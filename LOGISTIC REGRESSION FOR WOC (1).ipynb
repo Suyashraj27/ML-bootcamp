{
 "cells": [
  {
   "cell_type": "code",
   "execution_count": 18,
   "id": "93f727da",
   "metadata": {},
   "outputs": [],
   "source": [
    "import numpy as np\n",
    "import pandas as pd\n",
    "import matplotlib.pyplot as plt"
   ]
  },
  {
   "cell_type": "code",
   "execution_count": 19,
   "id": "14b3ffc2",
   "metadata": {},
   "outputs": [],
   "source": [
    "def zscore(x):\n",
    "    mean = np.mean(x,axis = 0)\n",
    "    sigma = np.std(x,axis = 0)\n",
    "    x_norm = (x-mean)/sigma\n",
    "    return x_norm"
   ]
  },
  {
   "cell_type": "code",
   "execution_count": 37,
   "id": "1eaab1aa",
   "metadata": {},
   "outputs": [],
   "source": [
    "def multiclass_to_binary(y):\n",
    "    y = y + 1\n",
    "    y_1 = set(y)\n",
    "    y_1 = np.array(list(y_1))\n",
    "    n = y_1.shape[0]\n",
    "    m = y.shape[0]\n",
    "    t = np.zeros((n,m))\n",
    "    T = np.zeros((n,m))\n",
    "    for i in range(n):\n",
    "        t[i] = y\n",
    "    for i in range(n):\n",
    "        q = t[i]\n",
    "        for j in range(m):\n",
    "            if q[j] == y_1[i]:\n",
    "                q[j] = 1\n",
    "            elif q[j] < y_1[i]:\n",
    "                q[j] = 0\n",
    "            elif q[j] > y_1[i]:\n",
    "                q[j] = 0\n",
    "        T[i] = q\n",
    "    return T\n",
    "def predict(x,y_train):\n",
    "    y_b = multiclass_to_binary(y_train)\n",
    "    k = y_b.shape[0]\n",
    "    m = x.shape[0]\n",
    "    y_out = np.zeros((m,k))\n",
    "    y_output = np.zeros(m)\n",
    "    for i in range(k):\n",
    "        w = parameters[\"w\" + str(i)]\n",
    "        b = parameters[\"b\" + str(i)]\n",
    "        r = np.dot(x,w) + b\n",
    "        y_out[:,i] = r\n",
    "    for i in range(m):\n",
    "        y_output[i] = np.argmax(y_out[i,:])\n",
    "    return y_output\n",
    "def accuracy(y_label,y_pred):\n",
    "    acc = np.mean(y_label == y_pred)*100\n",
    "    return acc"
   ]
  },
  {
   "cell_type": "code",
   "execution_count": 21,
   "id": "68d5507f",
   "metadata": {},
   "outputs": [],
   "source": [
    "def sigmoid(x):\n",
    "    g = 1/(1 + np.exp(-x))\n",
    "    return g"
   ]
  },
  {
   "cell_type": "code",
   "execution_count": 22,
   "id": "88ab2601",
   "metadata": {},
   "outputs": [],
   "source": [
    "def cost_gradient(x,y,w,b):\n",
    "    m = x.shape[0]\n",
    "    z = np.dot(x,w) + b\n",
    "    f_wb = sigmoid(z)\n",
    "    f_wb_log = -(y*np.log(f_wb) + (1 - y)*np.log(1-f_wb))\n",
    "    cost  = f_wb_log*y\n",
    "    cost  = np.sum(cost)\n",
    "    err   = (f_wb - y)\n",
    "    err   = err.reshape(-1,1)\n",
    "    dj_dw = x*err\n",
    "    dj_db = (f_wb - y)\n",
    "    dj_dw = np.sum(dj_dw,axis = 0)\n",
    "    dj_db = np.sum(dj_db,axis = 0)\n",
    "    dj_dw = dj_dw/m\n",
    "    dj_db = dj_db/m\n",
    "    cost =  cost/m\n",
    "    return cost,dj_dw,dj_db"
   ]
  },
  {
   "cell_type": "code",
   "execution_count": 52,
   "id": "83ca9f86",
   "metadata": {},
   "outputs": [],
   "source": [
    "def gradient_descent(x,y,w_in,b_in,alpha,iteration):\n",
    "    w = w_in\n",
    "    b = b_in\n",
    "    j_history = []\n",
    "    for i in range(iteration):\n",
    "        cost,dj_dw,dj_db = cost_gradient(x,y,w,b)\n",
    "        w = w - alpha*dj_dw\n",
    "        b = b - alpha*dj_db\n",
    "        j_history.append(cost)\n",
    "        if(i)%(iteration/20) == 0:\n",
    "            print(\"=\",end = \"\")\n",
    "        if (i)%(iteration/2) == 0:\n",
    "            print(f\"i={i},cost={j_history[-1]}\")\n",
    "    return w,b,j_history"
   ]
  },
  {
   "cell_type": "code",
   "execution_count": 24,
   "id": "19262bb7",
   "metadata": {},
   "outputs": [],
   "source": [
    "dataset_train = pd.read_csv(\"classification_train.csv\")\n",
    "dataset_test = pd.read_csv(\"classification_test.csv\")"
   ]
  },
  {
   "cell_type": "code",
   "execution_count": 25,
   "id": "7041811a",
   "metadata": {},
   "outputs": [],
   "source": [
    "y_train = dataset_train.iloc[:,1:2].values\n",
    "y_train = y_train.flatten()\n",
    "x_train = dataset_train.iloc[:,2:786].values\n",
    "x_test = dataset_test.iloc[:,1:785].values\n",
    "x_train = zscore(x_train)\n",
    "x_test = zscore(x_test)"
   ]
  },
  {
   "cell_type": "code",
   "execution_count": 35,
   "id": "3bdd3314",
   "metadata": {},
   "outputs": [
    {
     "name": "stdout",
     "output_type": "stream",
     "text": [
      "training for data with label = 0\n",
      "= i=0,cost=0.06931471805599453\n",
      "= = = = i=20,cost=0.03789608934797629\n",
      "= = = = i=40,cost=0.029617979471851127\n",
      "= = = = i=60,cost=0.025652540303038623\n",
      "= = = = i=80,cost=0.0234063487588511\n",
      "= = = training for data with label = 1\n",
      "= i=0,cost=0.06931471805599453\n",
      "= = = = i=20,cost=0.025120359655696756\n",
      "= = = = i=40,cost=0.01693097980497934\n",
      "= = = = i=60,cost=0.013266095826858042\n",
      "= = = = i=80,cost=0.011105462490993104\n",
      "= = = training for data with label = 2\n",
      "= i=0,cost=0.06931471805599453\n",
      "= = = = i=20,cost=0.04444187480437564\n",
      "= = = = i=40,cost=0.03841339983685298\n",
      "= = = = i=60,cost=0.03586459698613127\n",
      "= = = = i=80,cost=0.034720527736308994\n",
      "= = = training for data with label = 3\n",
      "= i=0,cost=0.06931471805599453\n",
      "= = = = i=20,cost=0.04011641229994464\n",
      "= = = = i=40,cost=0.033975440033644486\n",
      "= = = = i=60,cost=0.031072447275394384\n",
      "= = = = i=80,cost=0.02921403683985494\n",
      "= = = training for data with label = 4\n",
      "= i=0,cost=0.06931471805599453\n",
      "= = = = i=20,cost=0.04320375398052003\n",
      "= = = = i=40,cost=0.03726633454685107\n",
      "= = = = i=60,cost=0.03431568973281451\n",
      "= = = = i=80,cost=0.03264665364809056\n",
      "= = = training for data with label = 5\n",
      "= i=0,cost=0.06931471805599453\n",
      "= = = = i=20,cost=0.03681288740120871\n",
      "= = = = i=40,cost=0.034222264325667454\n",
      "= = = = i=60,cost=0.03317566517373325\n",
      "= = = = i=80,cost=0.03251483648679914\n",
      "= = = training for data with label = 6\n",
      "= i=0,cost=0.06931471805599453\n",
      "= = = = i=20,cost=0.058058528625108984\n",
      "= = = = i=40,cost=0.05516191564796013\n",
      "= = = = i=60,cost=0.05397600612347364\n",
      "= = = = i=80,cost=0.05351289828418085\n",
      "= = = training for data with label = 7\n",
      "= i=0,cost=0.06931471805599454\n",
      "= = = = i=20,cost=0.026957017335386465\n",
      "= = = = i=40,cost=0.02044790912357514\n",
      "= = = = i=60,cost=0.017480883081434046\n",
      "= = = = i=80,cost=0.015814067996396623\n",
      "= = = training for data with label = 8\n",
      "= i=0,cost=0.06931471805599453\n",
      "= = = = i=20,cost=0.03331551256690454\n",
      "= = = = i=40,cost=0.02416003999185502\n",
      "= = = = i=60,cost=0.01961027762445929\n",
      "= = = = i=80,cost=0.016916305088409633\n",
      "= = = training for data with label = 9\n",
      "= i=0,cost=0.06931471805599453\n",
      "= = = = i=20,cost=0.019934050203902726\n",
      "= = = = i=40,cost=0.011995094227122494\n",
      "= = = = i=60,cost=0.00887558749166755\n",
      "= = = = i=80,cost=0.007266444124155323\n",
      "= = = "
     ]
    }
   ],
   "source": [
    "y_1 = set(y_train)\n",
    "y_train_bin = multiclass_to_binary(y_train)\n",
    "y_1 = np.array(list(y_1))\n",
    "k = y_1.shape[0]\n",
    "m,n = x_train.shape\n",
    "w_in = np.zeros((k,n))\n",
    "b_in = np.zeros(k)\n",
    "parameters = {}\n",
    "alpha = 0.00375\n",
    "iteration = 100\n",
    "for i in range(k):\n",
    "    print(f\"training for data with label = {i}\")\n",
    "    w,b,j_history = gradient_descent(x_train,y_train_bin[i],w_in[i],b_in[i],alpha,iteration)\n",
    "    parameters[\"w\" + str(i)] = w\n",
    "    parameters[\"b\" + str(i)] = b\n",
    "    parameters[\"cost\" + str(i)] = j_history"
   ]
  },
  {
   "cell_type": "code",
   "execution_count": 49,
   "id": "774b1b94",
   "metadata": {},
   "outputs": [
    {
     "data": {
      "image/png": "[encoded data removed]",
      "text/plain": [
       "<Figure size 500x500 with 1 Axes>"
      ]
     },
     "metadata": {},
     "output_type": "display_data"
    }
   ],
   "source": [
    "j_history = parameters[\"cost\" + str(1)]\n",
    "fig,ax = plt.subplots(1,1,figsize = (5,5))\n",
    "ax.plot(j_history[:100],label = 'cost vs iteration')\n",
    "ax.set_ylabel('y')\n",
    "ax.set_xlabel('x')\n",
    "ax.legend()\n",
    "plt.show()"
   ]
  },
  {
   "cell_type": "code",
   "execution_count": 40,
   "id": "26de7491",
   "metadata": {},
   "outputs": [],
   "source": [
    "y_pred = predict(x_train,y_train)"
   ]
  },
  {
   "cell_type": "code",
   "execution_count": 41,
   "id": "e9402e30",
   "metadata": {},
   "outputs": [
    {
     "name": "stdout",
     "output_type": "stream",
     "text": [
      "[9. 4. 1. ... 9. 2. 0.]\n"
     ]
    }
   ],
   "source": [
    "print(y_pred)"
   ]
  },
  {
   "cell_type": "code",
   "execution_count": 42,
   "id": "f1a5819a",
   "metadata": {},
   "outputs": [
    {
     "name": "stdout",
     "output_type": "stream",
     "text": [
      "[8 4 1 ... 9 4 6]\n"
     ]
    }
   ],
   "source": [
    "print(y_train)"
   ]
  },
  {
   "cell_type": "code",
   "execution_count": 43,
   "id": "26265dbc",
   "metadata": {},
   "outputs": [],
   "source": [
    "acc = accuracy(y_train,y_pred)"
   ]
  },
  {
   "cell_type": "code",
   "execution_count": 44,
   "id": "af0d6f5e",
   "metadata": {},
   "outputs": [
    {
     "name": "stdout",
     "output_type": "stream",
     "text": [
      "72.06333333333333\n"
     ]
    }
   ],
   "source": [
    "print(acc)"
   ]
  },
  {
   "cell_type": "code",
   "execution_count": null,
   "id": "eb6c41a7",
   "metadata": {},
   "outputs": [],
   "source": []
  }
 ],
 "metadata": {
  "kernelspec": {
   "display_name": "Python 3 (ipykernel)",
   "language": "python",
   "name": "python3"
  },
  "language_info": {
   "codemirror_mode": {
    "name": "ipython",
    "version": 3
   },
   "file_extension": ".py",
   "mimetype": "text/x-python",
   "name": "python",
   "nbconvert_exporter": "python",
   "pygments_lexer": "ipython3",
   "version": "3.9.13"
  }
 },
 "nbformat": 4,
 "nbformat_minor": 5
}
